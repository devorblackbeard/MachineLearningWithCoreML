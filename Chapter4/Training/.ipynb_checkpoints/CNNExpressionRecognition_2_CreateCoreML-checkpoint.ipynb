{
 "cells": [
  {
   "cell_type": "markdown",
   "metadata": {},
   "source": [
    "# Facial Expression Recognition Challenge  \n",
    "## CoreML Model Conversion\n",
    "In this notebook we tackle the Kaggle competition <a href='https://www.kaggle.com/c/challenges-in-representation-learning-facial-expression-recognition-challenge'>Challenges in Representation Learning: Facial Expression Recognition Challenge</a> where we learn how to classify facial expressions from an image."
   ]
  },
  {
   "cell_type": "markdown",
   "metadata": {},
   "source": [
    "--- "
   ]
  },
  {
   "cell_type": "code",
   "execution_count": 1,
   "metadata": {},
   "outputs": [
    {
     "name": "stderr",
     "output_type": "stream",
     "text": [
      "Using TensorFlow backend.\n"
     ]
    },
    {
     "data": {
      "text/plain": [
       "'2.0.8'"
      ]
     },
     "execution_count": 1,
     "metadata": {},
     "output_type": "execute_result"
    }
   ],
   "source": [
    "import keras \n",
    "keras.__version__"
   ]
  },
  {
   "cell_type": "code",
   "execution_count": 2,
   "metadata": {
    "collapsed": true
   },
   "outputs": [],
   "source": [
    "import os\n",
    "from matplotlib import pyplot as plt\n",
    "import csv \n",
    "import random \n",
    "import numpy as np\n",
    "\n",
    "%matplotlib inline\n",
    "%config InlineBackend.figure_format = 'retina'\n",
    "\n",
    "plt.style.use('ggplot')"
   ]
  },
  {
   "cell_type": "markdown",
   "metadata": {},
   "source": [
    "### Load Model and Weight "
   ]
  },
  {
   "cell_type": "code",
   "execution_count": 9,
   "metadata": {
    "collapsed": true
   },
   "outputs": [],
   "source": [
    "from keras.models import model_from_json"
   ]
  },
  {
   "cell_type": "code",
   "execution_count": 10,
   "metadata": {
    "collapsed": true
   },
   "outputs": [],
   "source": [
    "# Load model architecture \n",
    "with open('output/fer2013_model_arc.json', 'r') as f:\n",
    "    model_json = f.read() \n",
    "    model = model_from_json(model_json) "
   ]
  },
  {
   "cell_type": "code",
   "execution_count": 11,
   "metadata": {},
   "outputs": [],
   "source": [
    "# Load model weights \n",
    "model.load_weights(\"output/fer2013_model_weights.h5\")"
   ]
  },
  {
   "cell_type": "code",
   "execution_count": 12,
   "metadata": {},
   "outputs": [
    {
     "name": "stdout",
     "output_type": "stream",
     "text": [
      "_________________________________________________________________\n",
      "Layer (type)                 Output Shape              Param #   \n",
      "=================================================================\n",
      "layer_1_conv2d (Conv2D)      (None, 48, 48, 64)        640       \n",
      "_________________________________________________________________\n",
      "layer_1_max (MaxPooling2D)   (None, 24, 24, 64)        0         \n",
      "_________________________________________________________________\n",
      "layer_2_conv2d (Conv2D)      (None, 24, 24, 128)       73856     \n",
      "_________________________________________________________________\n",
      "layer_2_max (MaxPooling2D)   (None, 12, 12, 128)       0         \n",
      "_________________________________________________________________\n",
      "layer_3_conv2d (Conv2D)      (None, 12, 12, 256)       295168    \n",
      "_________________________________________________________________\n",
      "layer_3_max (MaxPooling2D)   (None, 6, 6, 256)         0         \n",
      "_________________________________________________________________\n",
      "flatten_1 (Flatten)          (None, 9216)              0         \n",
      "_________________________________________________________________\n",
      "dropout_1 (Dropout)          (None, 9216)              0         \n",
      "_________________________________________________________________\n",
      "layer_4_dense (Dense)        (None, 512)               4719104   \n",
      "_________________________________________________________________\n",
      "layer_5_dense (Dense)        (None, 128)               65664     \n",
      "_________________________________________________________________\n",
      "output (Dense)               (None, 7)                 903       \n",
      "=================================================================\n",
      "Total params: 5,155,335\n",
      "Trainable params: 5,155,335\n",
      "Non-trainable params: 0\n",
      "_________________________________________________________________\n"
     ]
    }
   ],
   "source": [
    "model.summary()"
   ]
  },
  {
   "cell_type": "markdown",
   "metadata": {},
   "source": [
    "### Test model "
   ]
  },
  {
   "cell_type": "code",
   "execution_count": 14,
   "metadata": {
    "collapsed": true
   },
   "outputs": [],
   "source": [
    "emotion_idx2label = [\n",
    "    \"Angry\", \"Disgust\", \"Fear\", \"Happy\", \"Sad\", \"Surprise\", \"Neutral\"\n",
    "]"
   ]
  },
  {
   "cell_type": "code",
   "execution_count": 17,
   "metadata": {
    "collapsed": true
   },
   "outputs": [],
   "source": [
    "def load_validation_data(file='data/fer2013/fer2013.csv'):\n",
    "    val_labels = [] \n",
    "    val_images = []\n",
    "\n",
    "    with open(file) as f:\n",
    "        reader = csv.reader(f)\n",
    "        _ = next(reader) # ignore the header \n",
    "        for row in reader:\n",
    "            is_training = row[2].lower() == \"training\"\n",
    "            emotion = int(row[0].replace(\"'\", \"\")) \n",
    "            pixels = [float(pixel) for pixel in row[1].replace(\"'\", \"\").split()]\n",
    "        \n",
    "            if not is_training:\n",
    "                val_labels.append(emotion)\n",
    "                val_images.append(pixels)                \n",
    "            \n",
    "    # Convert to a numpy\n",
    "    val_x = np.array(val_images)\n",
    "    \n",
    "    # Normalize pixels \n",
    "    val_x = val_x.astype('float32')/255.0\n",
    "    \n",
    "    # Reshape into a 3D tensor \n",
    "    val_x = np.reshape(val_x, (-1, 48, 48, 1))\n",
    "    \n",
    "    # \n",
    "    classes = len(set(val_labels))\n",
    "    val_y = [] \n",
    "    for label in val_labels:\n",
    "        encoded_label = [0] * classes\n",
    "        encoded_label[label] = 1 \n",
    "        val_y.append(encoded_label)\n",
    "    \n",
    "    val_y = np.array(val_y, dtype='int')\n",
    "    \n",
    "    return val_x, val_y"
   ]
  },
  {
   "cell_type": "code",
   "execution_count": 18,
   "metadata": {},
   "outputs": [],
   "source": [
    "val_x, val_y = load_validation_data()"
   ]
  },
  {
   "cell_type": "code",
   "execution_count": 30,
   "metadata": {},
   "outputs": [
    {
     "name": "stdout",
     "output_type": "stream",
     "text": [
      "Happy\n"
     ]
    },
    {
     "data": {
      "text/plain": [
       "<matplotlib.image.AxesImage at 0x1198e3278>"
      ]
     },
     "execution_count": 30,
     "metadata": {},
     "output_type": "execute_result"
    },
    {
     "data": {
      "image/png": "[encoded data removed]",
      "text/plain": [
       "<matplotlib.figure.Figure at 0x119a9cb38>"
      ]
     },
     "metadata": {
      "image/png": {
       "height": 250,
       "width": 253
      }
     },
     "output_type": "display_data"
    }
   ],
   "source": [
    "print(emotion_idx2label[np.argmax(val_y[4])])\n",
    "plt.imshow(val_x[4].reshape(48,48), cmap='gray', interpolation='nearest')"
   ]
  },
  {
   "cell_type": "code",
   "execution_count": 47,
   "metadata": {},
   "outputs": [
    {
     "name": "stdout",
     "output_type": "stream",
     "text": [
      "Sad\n"
     ]
    },
    {
     "data": {
      "text/plain": [
       "<matplotlib.image.AxesImage at 0x11b7c3710>"
      ]
     },
     "execution_count": 47,
     "metadata": {},
     "output_type": "execute_result"
    },
    {
     "data": {
      "image/png": "[encoded data removed]",
      "text/plain": [
       "<matplotlib.figure.Figure at 0x119cf8208>"
      ]
     },
     "metadata": {
      "image/png": {
       "height": 250,
       "width": 253
      }
     },
     "output_type": "display_data"
    }
   ],
   "source": [
    "print(emotion_idx2label[np.argmax(val_y[12])])\n",
    "plt.imshow(val_x[12].reshape(48,48), cmap='gray', interpolation='nearest')"
   ]
  },
  {
   "cell_type": "markdown",
   "metadata": {},
   "source": [
    "### Create CoreML model"
   ]
  },
  {
   "cell_type": "code",
   "execution_count": 48,
   "metadata": {},
   "outputs": [
    {
     "ename": "ImportError",
     "evalue": "No module named 'coremltools'",
     "output_type": "error",
     "traceback": [
      "\u001b[0;31m---------------------------------------------------------------------------\u001b[0m",
      "\u001b[0;31mImportError\u001b[0m                               Traceback (most recent call last)",
      "\u001b[0;32m<ipython-input-48-e7496eaa2478>\u001b[0m in \u001b[0;36m<module>\u001b[0;34m()\u001b[0m\n\u001b[0;32m----> 1\u001b[0;31m \u001b[0;32mimport\u001b[0m \u001b[0mcoremltools\u001b[0m\u001b[0;34m\u001b[0m\u001b[0m\n\u001b[0m",
      "\u001b[0;31mImportError\u001b[0m: No module named 'coremltools'"
     ]
    }
   ],
   "source": [
    "import coremltools"
   ]
  },
  {
   "cell_type": "code",
   "execution_count": null,
   "metadata": {
    "collapsed": true
   },
   "outputs": [],
   "source": []
  }
 ],
 "metadata": {
  "kernelspec": {
   "display_name": "Python 2",
   "language": "python",
   "name": "python2"
  },
  "language_info": {
   "codemirror_mode": {
    "name": "ipython",
    "version": 3
   },
   "file_extension": ".py",
   "mimetype": "text/x-python",
   "name": "python",
   "nbconvert_exporter": "python",
   "pygments_lexer": "ipython3",
   "version": "3.5.4"
  }
 },
 "nbformat": 4,
 "nbformat_minor": 2
}
